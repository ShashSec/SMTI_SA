{
 "cells": [
  {
   "cell_type": "code",
   "execution_count": 30,
   "metadata": {},
   "outputs": [
    {
     "name": "stdout",
     "output_type": "stream",
     "text": [
      "nvdcve-2017.xml\n",
      "NVD-2017.txt\n",
      "nvdcve-2016.xml\n",
      "NVD-2016.txt\n",
      "nvdcve-2015.xml\n",
      "NVD-2015.txt\n",
      "nvdcve-2014.xml\n",
      "NVD-2014.txt\n",
      "nvdcve-2013.xml\n",
      "NVD-2013.txt\n",
      "nvdcve-2012.xml\n",
      "NVD-2012.txt\n",
      "nvdcve-2011.xml\n",
      "NVD-2011.txt\n",
      "nvdcve-2010.xml\n",
      "NVD-2010.txt\n",
      "nvdcve-2009.xml\n",
      "NVD-2009.txt\n",
      "nvdcve-2008.xml\n",
      "NVD-2008.txt\n",
      "nvdcve-2007.xml\n",
      "NVD-2007.txt\n",
      "nvdcve-2006.xml\n",
      "NVD-2006.txt\n",
      "nvdcve-2005.xml\n",
      "NVD-2005.txt\n",
      "nvdcve-2004.xml\n",
      "NVD-2004.txt\n",
      "nvdcve-2003.xml\n",
      "NVD-2003.txt\n",
      "nvdcve-2002.xml\n",
      "NVD-2002.txt\n"
     ]
    }
   ],
   "source": [
    "import xml.etree.ElementTree as ET\n",
    "from tempfile import NamedTemporaryFile\n",
    "from shutil import move\n",
    "\n",
    "FileNames= [('nvdcve-2017.xml','NVD-2017.txt'),('nvdcve-2016.xml','NVD-2016.txt'),('nvdcve-2015.xml','NVD-2015.txt'),('nvdcve-2014.xml','NVD-2014.txt'),('nvdcve-2013.xml','NVD-2013.txt'),('nvdcve-2012.xml','NVD-2012.txt'),('nvdcve-2011.xml','NVD-2011.txt'),('nvdcve-2010.xml','NVD-2010.txt'),('nvdcve-2009.xml','NVD-2009.txt'),('nvdcve-2008.xml','NVD-2008.txt'),('nvdcve-2007.xml','NVD-2007.txt'),('nvdcve-2006.xml','NVD-2006.txt'),('nvdcve-2005.xml','NVD-2005.txt'),('nvdcve-2004.xml','NVD-2004.txt'),('nvdcve-2003.xml','NVD-2003.txt'),('nvdcve-2002.xml','NVD-2002.txt')]\n",
    "\n",
    "for XMLfile,filename in FileNames:\n",
    "    tree = ET.parse(XMLfile)\n",
    "    root= tree.getroot()\n",
    "    for entry in root.findall('{http://nvd.nist.gov/feeds/cve/1.2}entry'):\n",
    "        if(entry.get('reject') is not None):\n",
    "            root.remove(entry)\n",
    "        else:\n",
    "            entry.remove(entry.find('{http://nvd.nist.gov/feeds/cve/1.2}refs'))  \n",
    "    notags = ET.tostring(root,encoding='utf-8',method='text')\n",
    "    f = open( filename, 'w' )\n",
    "    f.write(notags)\n",
    "    f.close()\n",
    "    try:\n",
    "        with open(filename, \"rb\") as fin, NamedTemporaryFile(delete=False) as fout:\n",
    "            temp_filename = fout.name\n",
    "            for line in fin:\n",
    "                if line.strip():\n",
    "                    fout.write(line)\n",
    "    except FileNotFoundError:\n",
    "        print(\"{} does not exist.\".format(filename))\n",
    "    else:\n",
    "        move(temp_filename, filename)\n"
   ]
  },
  {
   "cell_type": "code",
   "execution_count": 13,
   "metadata": {},
   "outputs": [],
   "source": [
    "\n"
   ]
  },
  {
   "cell_type": "code",
   "execution_count": null,
   "metadata": {},
   "outputs": [],
   "source": []
  }
 ],
 "metadata": {
  "kernelspec": {
   "display_name": "Python 2",
   "language": "python",
   "name": "python2"
  },
  "language_info": {
   "codemirror_mode": {
    "name": "ipython",
    "version": 2
   },
   "file_extension": ".py",
   "mimetype": "text/x-python",
   "name": "python",
   "nbconvert_exporter": "python",
   "pygments_lexer": "ipython2",
   "version": "2.7.14"
  }
 },
 "nbformat": 4,
 "nbformat_minor": 2
}
